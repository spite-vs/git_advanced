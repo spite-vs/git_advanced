{
 "cells": [
  {
   "cell_type": "markdown",
   "metadata": {},
   "source": [
    "# Intertest"
   ]
  },
  {
   "cell_type": "markdown",
   "metadata": {},
   "source": [
    "# Домашняя по git"
   ]
  },
  {
   "cell_type": "code",
   "execution_count": 101,
   "metadata": {},
   "outputs": [],
   "source": [
    "import pandas as pd\n",
    "dir = pd.read_excel('Справочник.xlsx')\n",
    "mar_dt = pd.read_excel('Маркетинговые данные.xlsx')\n",
    "crm_dt = pd.read_excel('Данные из CRM.xlsx')\n",
    "course = pd.read_excel('Курсы валют.xlsx')"
   ]
  },
  {
   "cell_type": "markdown",
   "metadata": {},
   "source": [
    "### 1. Из каких регионов больше всего заявок"
   ]
  },
  {
   "cell_type": "code",
   "execution_count": 102,
   "metadata": {},
   "outputs": [
    {
     "data": {
      "text/plain": [
       "City\n",
       "Krasnodar        18246\n",
       "Sochi             2551\n",
       "Stavropol         1072\n",
       "Rostov-on-Don     1049\n",
       "Moscow            1036\n",
       "Gelendzhik         654\n",
       "Voronezh           570\n",
       "Maykop             326\n",
       "Grozny             318\n",
       "Simferopol         297\n",
       "Name: Конверсия, dtype: int64"
      ]
     },
     "execution_count": 102,
     "metadata": {},
     "output_type": "execute_result"
    }
   ],
   "source": [
    "mar_dt.loc[mar_dt['City'] != '(not set)'].groupby('City')['Конверсия'].sum().sort_values(ascending=False).head(10)"
   ]
  },
  {
   "cell_type": "markdown",
   "metadata": {},
   "source": [
    "### 2. Какой средний процент отказов (Bounce)"
   ]
  },
  {
   "cell_type": "code",
   "execution_count": 103,
   "metadata": {},
   "outputs": [
    {
     "name": "stdout",
     "output_type": "stream",
     "text": [
      "0.18 %\n"
     ]
    }
   ],
   "source": [
    "print(round(mar_dt['Bounce Rate'].value_counts(normalize=True).loc[1]*100, 2),'%')"
   ]
  },
  {
   "cell_type": "markdown",
   "metadata": {},
   "source": [
    "### 3. С каких устройств чаще заходят на сайты"
   ]
  },
  {
   "cell_type": "code",
   "execution_count": 104,
   "metadata": {},
   "outputs": [
    {
     "data": {
      "text/plain": [
       "Device Category\n",
       "mobile     47710\n",
       "desktop    28857\n",
       "tablet      2493\n",
       "Name: Sessions, dtype: int64"
      ]
     },
     "execution_count": 104,
     "metadata": {},
     "output_type": "execute_result"
    }
   ],
   "source": [
    "mar_dt.groupby('Device Category')['Sessions'].sum().sort_values(ascending=False)"
   ]
  },
  {
   "cell_type": "markdown",
   "metadata": {},
   "source": [
    "### 4. Какие источники наиболее конвертируемые"
   ]
  },
  {
   "cell_type": "code",
   "execution_count": 105,
   "metadata": {},
   "outputs": [
    {
     "data": {
      "text/html": [
       "<div>\n",
       "<style scoped>\n",
       "    .dataframe tbody tr th:only-of-type {\n",
       "        vertical-align: middle;\n",
       "    }\n",
       "\n",
       "    .dataframe tbody tr th {\n",
       "        vertical-align: top;\n",
       "    }\n",
       "\n",
       "    .dataframe thead th {\n",
       "        text-align: right;\n",
       "    }\n",
       "</style>\n",
       "<table border=\"1\" class=\"dataframe\">\n",
       "  <thead>\n",
       "    <tr style=\"text-align: right;\">\n",
       "      <th></th>\n",
       "      <th>Кол-во конверсий</th>\n",
       "      <th>Процент</th>\n",
       "    </tr>\n",
       "    <tr>\n",
       "      <th>Source</th>\n",
       "      <th></th>\n",
       "      <th></th>\n",
       "    </tr>\n",
       "  </thead>\n",
       "  <tbody>\n",
       "    <tr>\n",
       "      <th>google</th>\n",
       "      <td>9106</td>\n",
       "      <td>50.31</td>\n",
       "    </tr>\n",
       "    <tr>\n",
       "      <th>yandex.ru</th>\n",
       "      <td>5668</td>\n",
       "      <td>49.93</td>\n",
       "    </tr>\n",
       "    <tr>\n",
       "      <th>yandex</th>\n",
       "      <td>5035</td>\n",
       "      <td>49.19</td>\n",
       "    </tr>\n",
       "    <tr>\n",
       "      <th>(direct)</th>\n",
       "      <td>4790</td>\n",
       "      <td>50.83</td>\n",
       "    </tr>\n",
       "    <tr>\n",
       "      <th>BMW-keyauto-krd.ru</th>\n",
       "      <td>4151</td>\n",
       "      <td>50.18</td>\n",
       "    </tr>\n",
       "    <tr>\n",
       "      <th>google_go_search</th>\n",
       "      <td>1058</td>\n",
       "      <td>50.31</td>\n",
       "    </tr>\n",
       "    <tr>\n",
       "      <th>IG</th>\n",
       "      <td>771</td>\n",
       "      <td>48.74</td>\n",
       "    </tr>\n",
       "    <tr>\n",
       "      <th>cars.BMW-keyauto-krd.ru</th>\n",
       "      <td>548</td>\n",
       "      <td>46.01</td>\n",
       "    </tr>\n",
       "    <tr>\n",
       "      <th>go.mail.ru</th>\n",
       "      <td>399</td>\n",
       "      <td>47.67</td>\n",
       "    </tr>\n",
       "    <tr>\n",
       "      <th>carsdo.ru</th>\n",
       "      <td>367</td>\n",
       "      <td>51.11</td>\n",
       "    </tr>\n",
       "    <tr>\n",
       "      <th>Mersedes.ru</th>\n",
       "      <td>366</td>\n",
       "      <td>50.97</td>\n",
       "    </tr>\n",
       "    <tr>\n",
       "      <th>yandex_go_search</th>\n",
       "      <td>154</td>\n",
       "      <td>49.84</td>\n",
       "    </tr>\n",
       "    <tr>\n",
       "      <th>BMW-keyauto-msk.ru</th>\n",
       "      <td>60</td>\n",
       "      <td>56.60</td>\n",
       "    </tr>\n",
       "    <tr>\n",
       "      <th>link.2gis.ru</th>\n",
       "      <td>52</td>\n",
       "      <td>46.02</td>\n",
       "    </tr>\n",
       "    <tr>\n",
       "      <th>BMW.ru</th>\n",
       "      <td>51</td>\n",
       "      <td>42.86</td>\n",
       "    </tr>\n",
       "  </tbody>\n",
       "</table>\n",
       "</div>"
      ],
      "text/plain": [
       "                         Кол-во конверсий  Процент\n",
       "Source                                            \n",
       "google                               9106    50.31\n",
       "yandex.ru                            5668    49.93\n",
       "yandex                               5035    49.19\n",
       "(direct)                             4790    50.83\n",
       "BMW-keyauto-krd.ru                   4151    50.18\n",
       "google_go_search                     1058    50.31\n",
       "IG                                    771    48.74\n",
       "cars.BMW-keyauto-krd.ru               548    46.01\n",
       "go.mail.ru                            399    47.67\n",
       "carsdo.ru                             367    51.11\n",
       "Mersedes.ru                           366    50.97\n",
       "yandex_go_search                      154    49.84\n",
       "BMW-keyauto-msk.ru                     60    56.60\n",
       "link.2gis.ru                           52    46.02\n",
       "BMW.ru                                 51    42.86"
      ]
     },
     "execution_count": 105,
     "metadata": {},
     "output_type": "execute_result"
    }
   ],
   "source": [
    "df = mar_dt.groupby('Source')['Конверсия'].agg(['sum', 'count'])\n",
    "df['Процент'] = round(df['sum'] / df['count'] * 100, 2)\n",
    "df[['sum','Процент']].sort_values(by='sum',ascending=False).head(15).rename(columns={'sum': 'Кол-во конверсий'})"
   ]
  },
  {
   "cell_type": "markdown",
   "metadata": {},
   "source": [
    "### 5. Рассчитайте ROMI (при расчете придумайте методологию расчета средней стоимость проданного автомобиля)"
   ]
  },
  {
   "cell_type": "code",
   "execution_count": 106,
   "metadata": {},
   "outputs": [
    {
     "name": "stdout",
     "output_type": "stream",
     "text": [
      "ROMI: 543.9 %\n"
     ]
    }
   ],
   "source": [
    "df2 = mar_dt.merge(dir, left_on='Модель', right_on='Модель', how='left')\n",
    "df2 = df2[(df2['Конверсия'] == 1) & (df2['Маржа (руб)'].notnull())]\n",
    "df2 = df2.drop_duplicates(subset=['Client ID','Маржа (руб)']).groupby('Client ID')['Маржа (руб)'].mean()\n",
    "df3 = crm_dt[crm_dt['Продажа'] == 1].groupby('Client ID')['Продажа'].sum()\n",
    "df4 = pd.merge(df3,df2, on='Client ID', how='left')\n",
    "avg = df4['Маржа (руб)'].sum()/df4[df4['Маржа (руб)'].notna()]['Продажа'].sum()\n",
    "df4['Маржа (руб)'] = df4['Маржа (руб)'].fillna(avg)\n",
    "print('ROMI:', round((df4['Маржа (руб)']*df4['Продажа']).sum()/mar_dt['Goal Value'].sum()*100, 2), '%')"
   ]
  },
  {
   "cell_type": "markdown",
   "metadata": {},
   "source": [
    "Методология расчёта средней маржи с проданного авто:\n",
    "\n",
    "Методология основывается на использовании косвенного признака модели автомобиля, вытянутого из столбца \"Goal Completion Location\".\n",
    "\n",
    "Для существующих данных по моделям подтянуты значения маржи, после чего отфильтрованы по положительному признаку конверсии и отобраны заходы с уникальными моделями. Итого получаем таблицу, где предположительно имеем для каждого уникального клиента несколько показателей маржи, что соответствует разным моделям машин, одна из которых была приобретена им при наличии признака продажи в таблице \"Данные из CRM\". По сумме показателей маржи известных моделей для каждого клиента вычисляем среднее значение для предположительного авто.\n",
    "\n",
    "Из таблицы \"Данные из CRM\" по признаку продажи считаем количество для каждого ID и объединяем с известными данными из предыдущей таблицы. По существующим совпадениям находим среднюю маржу авто и заполняем ей все пустые значения.\n",
    "\n",
    "По совокупности всех заполненных данных вычисляем среднюю маржу."
   ]
  },
  {
   "cell_type": "markdown",
   "metadata": {},
   "source": [
    "### 6. Посчитайте выручку в рублях только по долларовым позициям"
   ]
  },
  {
   "cell_type": "code",
   "execution_count": 107,
   "metadata": {},
   "outputs": [
    {
     "name": "stdout",
     "output_type": "stream",
     "text": [
      "1 588 722 952.3 руб\n"
     ]
    }
   ],
   "source": [
    "usd_point = mar_dt.merge(dir, left_on='Модель', right_on='Модель', how='left')\n",
    "usd_point2 = pd.merge(usd_point[usd_point['Валюта'] == 'Доллар США'], crm_dt.groupby('Client ID')['Продажа'].sum(), on='Client ID', how='left').drop_duplicates(subset=['Client ID', 'Модель'])\n",
    "a = round((usd_point2['Продажа']*usd_point2['Цена (руб)']).sum(), 2)\n",
    "print(f'{a:,} руб'.replace(',',' '))"
   ]
  },
  {
   "cell_type": "markdown",
   "metadata": {},
   "source": [
    "### 7. Определите, какой источник трафика наиболее выгоден для компании по текущим данным"
   ]
  },
  {
   "cell_type": "code",
   "execution_count": 108,
   "metadata": {},
   "outputs": [
    {
     "data": {
      "text/html": [
       "<style type=\"text/css\">\n",
       "</style>\n",
       "<table id=\"T_7a4a2\">\n",
       "  <thead>\n",
       "    <tr>\n",
       "      <th class=\"blank level0\" >&nbsp;</th>\n",
       "      <th id=\"T_7a4a2_level0_col0\" class=\"col_heading level0 col0\" >Source</th>\n",
       "      <th id=\"T_7a4a2_level0_col1\" class=\"col_heading level0 col1\" >Total Margin</th>\n",
       "      <th id=\"T_7a4a2_level0_col2\" class=\"col_heading level0 col2\" >Goal Value</th>\n",
       "      <th id=\"T_7a4a2_level0_col3\" class=\"col_heading level0 col3\" >Продажа</th>\n",
       "      <th id=\"T_7a4a2_level0_col4\" class=\"col_heading level0 col4\" >Profit (T-G)</th>\n",
       "      <th id=\"T_7a4a2_level0_col5\" class=\"col_heading level0 col5\" >Ratio (G/T)</th>\n",
       "    </tr>\n",
       "  </thead>\n",
       "  <tbody>\n",
       "    <tr>\n",
       "      <th id=\"T_7a4a2_level0_row0\" class=\"row_heading level0 row0\" >17</th>\n",
       "      <td id=\"T_7a4a2_row0_col0\" class=\"data row0 col0\" >google</td>\n",
       "      <td id=\"T_7a4a2_row0_col1\" class=\"data row0 col1\" >1320685717.72</td>\n",
       "      <td id=\"T_7a4a2_row0_col2\" class=\"data row0 col2\" >241050838</td>\n",
       "      <td id=\"T_7a4a2_row0_col3\" class=\"data row0 col3\" >1115</td>\n",
       "      <td id=\"T_7a4a2_row0_col4\" class=\"data row0 col4\" >1079634879.72</td>\n",
       "      <td id=\"T_7a4a2_row0_col5\" class=\"data row0 col5\" >18.3%</td>\n",
       "    </tr>\n",
       "    <tr>\n",
       "      <th id=\"T_7a4a2_level0_row1\" class=\"row_heading level0 row1\" >32</th>\n",
       "      <td id=\"T_7a4a2_row1_col0\" class=\"data row1 col0\" >yandex.ru</td>\n",
       "      <td id=\"T_7a4a2_row1_col1\" class=\"data row1 col1\" >840831373.46</td>\n",
       "      <td id=\"T_7a4a2_row1_col2\" class=\"data row1 col2\" >149605645</td>\n",
       "      <td id=\"T_7a4a2_row1_col3\" class=\"data row1 col3\" >715</td>\n",
       "      <td id=\"T_7a4a2_row1_col4\" class=\"data row1 col4\" >691225728.46</td>\n",
       "      <td id=\"T_7a4a2_row1_col5\" class=\"data row1 col5\" >17.8%</td>\n",
       "    </tr>\n",
       "    <tr>\n",
       "      <th id=\"T_7a4a2_level0_row2\" class=\"row_heading level0 row2\" >0</th>\n",
       "      <td id=\"T_7a4a2_row2_col0\" class=\"data row2 col0\" >(direct)</td>\n",
       "      <td id=\"T_7a4a2_row2_col1\" class=\"data row2 col1\" >724616598.77</td>\n",
       "      <td id=\"T_7a4a2_row2_col2\" class=\"data row2 col2\" >127409840</td>\n",
       "      <td id=\"T_7a4a2_row2_col3\" class=\"data row2 col3\" >612</td>\n",
       "      <td id=\"T_7a4a2_row2_col4\" class=\"data row2 col4\" >597206758.77</td>\n",
       "      <td id=\"T_7a4a2_row2_col5\" class=\"data row2 col5\" >17.6%</td>\n",
       "    </tr>\n",
       "    <tr>\n",
       "      <th id=\"T_7a4a2_level0_row3\" class=\"row_heading level0 row3\" >28</th>\n",
       "      <td id=\"T_7a4a2_row3_col0\" class=\"data row3 col0\" >yandex</td>\n",
       "      <td id=\"T_7a4a2_row3_col1\" class=\"data row3 col1\" >725438769.84</td>\n",
       "      <td id=\"T_7a4a2_row3_col2\" class=\"data row3 col2\" >133076623</td>\n",
       "      <td id=\"T_7a4a2_row3_col3\" class=\"data row3 col3\" >589</td>\n",
       "      <td id=\"T_7a4a2_row3_col4\" class=\"data row3 col4\" >592362146.84</td>\n",
       "      <td id=\"T_7a4a2_row3_col5\" class=\"data row3 col5\" >18.3%</td>\n",
       "    </tr>\n",
       "    <tr>\n",
       "      <th id=\"T_7a4a2_level0_row4\" class=\"row_heading level0 row4\" >2</th>\n",
       "      <td id=\"T_7a4a2_row4_col0\" class=\"data row4 col0\" >BMW-keyauto-krd.ru</td>\n",
       "      <td id=\"T_7a4a2_row4_col1\" class=\"data row4 col1\" >612706765.19</td>\n",
       "      <td id=\"T_7a4a2_row4_col2\" class=\"data row4 col2\" >111141166</td>\n",
       "      <td id=\"T_7a4a2_row4_col3\" class=\"data row4 col3\" >552</td>\n",
       "      <td id=\"T_7a4a2_row4_col4\" class=\"data row4 col4\" >501565599.19</td>\n",
       "      <td id=\"T_7a4a2_row4_col5\" class=\"data row4 col5\" >18.1%</td>\n",
       "    </tr>\n",
       "    <tr>\n",
       "      <th id=\"T_7a4a2_level0_row5\" class=\"row_heading level0 row5\" >19</th>\n",
       "      <td id=\"T_7a4a2_row5_col0\" class=\"data row5 col0\" >google_go_search</td>\n",
       "      <td id=\"T_7a4a2_row5_col1\" class=\"data row5 col1\" >153399793.97</td>\n",
       "      <td id=\"T_7a4a2_row5_col2\" class=\"data row5 col2\" >27905527</td>\n",
       "      <td id=\"T_7a4a2_row5_col3\" class=\"data row5 col3\" >141</td>\n",
       "      <td id=\"T_7a4a2_row5_col4\" class=\"data row5 col4\" >125494266.97</td>\n",
       "      <td id=\"T_7a4a2_row5_col5\" class=\"data row5 col5\" >18.2%</td>\n",
       "    </tr>\n",
       "    <tr>\n",
       "      <th id=\"T_7a4a2_level0_row6\" class=\"row_heading level0 row6\" >14</th>\n",
       "      <td id=\"T_7a4a2_row6_col0\" class=\"data row6 col0\" >cars.BMW-keyauto-krd.ru</td>\n",
       "      <td id=\"T_7a4a2_row6_col1\" class=\"data row6 col1\" >70857299.52</td>\n",
       "      <td id=\"T_7a4a2_row6_col2\" class=\"data row6 col2\" >14606107</td>\n",
       "      <td id=\"T_7a4a2_row6_col3\" class=\"data row6 col3\" >64</td>\n",
       "      <td id=\"T_7a4a2_row6_col4\" class=\"data row6 col4\" >56251192.52</td>\n",
       "      <td id=\"T_7a4a2_row6_col5\" class=\"data row6 col5\" >20.6%</td>\n",
       "    </tr>\n",
       "    <tr>\n",
       "      <th id=\"T_7a4a2_level0_row7\" class=\"row_heading level0 row7\" >8</th>\n",
       "      <td id=\"T_7a4a2_row7_col0\" class=\"data row7 col0\" >IG</td>\n",
       "      <td id=\"T_7a4a2_row7_col1\" class=\"data row7 col1\" >65163194.93</td>\n",
       "      <td id=\"T_7a4a2_row7_col2\" class=\"data row7 col2\" >20818551</td>\n",
       "      <td id=\"T_7a4a2_row7_col3\" class=\"data row7 col3\" >77</td>\n",
       "      <td id=\"T_7a4a2_row7_col4\" class=\"data row7 col4\" >44344643.93</td>\n",
       "      <td id=\"T_7a4a2_row7_col5\" class=\"data row7 col5\" >31.9%</td>\n",
       "    </tr>\n",
       "    <tr>\n",
       "      <th id=\"T_7a4a2_level0_row8\" class=\"row_heading level0 row8\" >9</th>\n",
       "      <td id=\"T_7a4a2_row8_col0\" class=\"data row8 col0\" >Mersedes.ru</td>\n",
       "      <td id=\"T_7a4a2_row8_col1\" class=\"data row8 col1\" >53532092.02</td>\n",
       "      <td id=\"T_7a4a2_row8_col2\" class=\"data row8 col2\" >9315685</td>\n",
       "      <td id=\"T_7a4a2_row8_col3\" class=\"data row8 col3\" >45</td>\n",
       "      <td id=\"T_7a4a2_row8_col4\" class=\"data row8 col4\" >44216407.02</td>\n",
       "      <td id=\"T_7a4a2_row8_col5\" class=\"data row8 col5\" >17.4%</td>\n",
       "    </tr>\n",
       "    <tr>\n",
       "      <th id=\"T_7a4a2_level0_row9\" class=\"row_heading level0 row9\" >15</th>\n",
       "      <td id=\"T_7a4a2_row9_col0\" class=\"data row9 col0\" >carsdo.ru</td>\n",
       "      <td id=\"T_7a4a2_row9_col1\" class=\"data row9 col1\" >53294746.26</td>\n",
       "      <td id=\"T_7a4a2_row9_col2\" class=\"data row9 col2\" >9786066</td>\n",
       "      <td id=\"T_7a4a2_row9_col3\" class=\"data row9 col3\" >55</td>\n",
       "      <td id=\"T_7a4a2_row9_col4\" class=\"data row9 col4\" >43508680.26</td>\n",
       "      <td id=\"T_7a4a2_row9_col5\" class=\"data row9 col5\" >18.4%</td>\n",
       "    </tr>\n",
       "    <tr>\n",
       "      <th id=\"T_7a4a2_level0_row10\" class=\"row_heading level0 row10\" >16</th>\n",
       "      <td id=\"T_7a4a2_row10_col0\" class=\"data row10 col0\" >go.mail.ru</td>\n",
       "      <td id=\"T_7a4a2_row10_col1\" class=\"data row10 col1\" >44000968.04</td>\n",
       "      <td id=\"T_7a4a2_row10_col2\" class=\"data row10 col2\" >10582330</td>\n",
       "      <td id=\"T_7a4a2_row10_col3\" class=\"data row10 col3\" >40</td>\n",
       "      <td id=\"T_7a4a2_row10_col4\" class=\"data row10 col4\" >33418638.04</td>\n",
       "      <td id=\"T_7a4a2_row10_col5\" class=\"data row10 col5\" >24.1%</td>\n",
       "    </tr>\n",
       "    <tr>\n",
       "      <th id=\"T_7a4a2_level0_row11\" class=\"row_heading level0 row11\" >33</th>\n",
       "      <td id=\"T_7a4a2_row11_col0\" class=\"data row11 col0\" >yandex_go_search</td>\n",
       "      <td id=\"T_7a4a2_row11_col1\" class=\"data row11 col1\" >16327636.56</td>\n",
       "      <td id=\"T_7a4a2_row11_col2\" class=\"data row11 col2\" >3964169</td>\n",
       "      <td id=\"T_7a4a2_row11_col3\" class=\"data row11 col3\" >15</td>\n",
       "      <td id=\"T_7a4a2_row11_col4\" class=\"data row11 col4\" >12363467.56</td>\n",
       "      <td id=\"T_7a4a2_row11_col5\" class=\"data row11 col5\" >24.3%</td>\n",
       "    </tr>\n",
       "    <tr>\n",
       "      <th id=\"T_7a4a2_level0_row12\" class=\"row_heading level0 row12\" >23</th>\n",
       "      <td id=\"T_7a4a2_row12_col0\" class=\"data row12 col0\" >link.2gis.ru</td>\n",
       "      <td id=\"T_7a4a2_row12_col1\" class=\"data row12 col1\" >12448571.58</td>\n",
       "      <td id=\"T_7a4a2_row12_col2\" class=\"data row12 col2\" >1333690</td>\n",
       "      <td id=\"T_7a4a2_row12_col3\" class=\"data row12 col3\" >11</td>\n",
       "      <td id=\"T_7a4a2_row12_col4\" class=\"data row12 col4\" >11114881.58</td>\n",
       "      <td id=\"T_7a4a2_row12_col5\" class=\"data row12 col5\" >10.7%</td>\n",
       "    </tr>\n",
       "    <tr>\n",
       "      <th id=\"T_7a4a2_level0_row13\" class=\"row_heading level0 row13\" >18</th>\n",
       "      <td id=\"T_7a4a2_row13_col0\" class=\"data row13 col0\" >google.com</td>\n",
       "      <td id=\"T_7a4a2_row13_col1\" class=\"data row13 col1\" >9107600.75</td>\n",
       "      <td id=\"T_7a4a2_row13_col2\" class=\"data row13 col2\" >137669</td>\n",
       "      <td id=\"T_7a4a2_row13_col3\" class=\"data row13 col3\" >2</td>\n",
       "      <td id=\"T_7a4a2_row13_col4\" class=\"data row13 col4\" >8969931.75</td>\n",
       "      <td id=\"T_7a4a2_row13_col5\" class=\"data row13 col5\" >1.5%</td>\n",
       "    </tr>\n",
       "    <tr>\n",
       "      <th id=\"T_7a4a2_level0_row14\" class=\"row_heading level0 row14\" >24</th>\n",
       "      <td id=\"T_7a4a2_row14_col0\" class=\"data row14 col0\" >rambler</td>\n",
       "      <td id=\"T_7a4a2_row14_col1\" class=\"data row14 col1\" >9053506.60</td>\n",
       "      <td id=\"T_7a4a2_row14_col2\" class=\"data row14 col2\" >1381594</td>\n",
       "      <td id=\"T_7a4a2_row14_col3\" class=\"data row14 col3\" >8</td>\n",
       "      <td id=\"T_7a4a2_row14_col4\" class=\"data row14 col4\" >7671912.60</td>\n",
       "      <td id=\"T_7a4a2_row14_col5\" class=\"data row14 col5\" >15.3%</td>\n",
       "    </tr>\n",
       "    <tr>\n",
       "      <th id=\"T_7a4a2_level0_row15\" class=\"row_heading level0 row15\" >20</th>\n",
       "      <td id=\"T_7a4a2_row15_col0\" class=\"data row15 col0\" >keyauto-m.bitrix24.ru</td>\n",
       "      <td id=\"T_7a4a2_row15_col1\" class=\"data row15 col1\" >6959564.98</td>\n",
       "      <td id=\"T_7a4a2_row15_col2\" class=\"data row15 col2\" >935665</td>\n",
       "      <td id=\"T_7a4a2_row15_col3\" class=\"data row15 col3\" >6</td>\n",
       "      <td id=\"T_7a4a2_row15_col4\" class=\"data row15 col4\" >6023899.98</td>\n",
       "      <td id=\"T_7a4a2_row15_col5\" class=\"data row15 col5\" >13.4%</td>\n",
       "    </tr>\n",
       "    <tr>\n",
       "      <th id=\"T_7a4a2_level0_row16\" class=\"row_heading level0 row16\" >7</th>\n",
       "      <td id=\"T_7a4a2_row16_col0\" class=\"data row16 col0\" >BMW.ru</td>\n",
       "      <td id=\"T_7a4a2_row16_col1\" class=\"data row16 col1\" >7036441.63</td>\n",
       "      <td id=\"T_7a4a2_row16_col2\" class=\"data row16 col2\" >1278692</td>\n",
       "      <td id=\"T_7a4a2_row16_col3\" class=\"data row16 col3\" >6</td>\n",
       "      <td id=\"T_7a4a2_row16_col4\" class=\"data row16 col4\" >5757749.63</td>\n",
       "      <td id=\"T_7a4a2_row16_col5\" class=\"data row16 col5\" >18.2%</td>\n",
       "    </tr>\n",
       "    <tr>\n",
       "      <th id=\"T_7a4a2_level0_row17\" class=\"row_heading level0 row17\" >27</th>\n",
       "      <td id=\"T_7a4a2_row17_col0\" class=\"data row17 col0\" >yahoo</td>\n",
       "      <td id=\"T_7a4a2_row17_col1\" class=\"data row17 col1\" >5186753.30</td>\n",
       "      <td id=\"T_7a4a2_row17_col2\" class=\"data row17 col2\" >565103</td>\n",
       "      <td id=\"T_7a4a2_row17_col3\" class=\"data row17 col3\" >5</td>\n",
       "      <td id=\"T_7a4a2_row17_col4\" class=\"data row17 col4\" >4621650.30</td>\n",
       "      <td id=\"T_7a4a2_row17_col5\" class=\"data row17 col5\" >10.9%</td>\n",
       "    </tr>\n",
       "    <tr>\n",
       "      <th id=\"T_7a4a2_level0_row18\" class=\"row_heading level0 row18\" >30</th>\n",
       "      <td id=\"T_7a4a2_row18_col0\" class=\"data row18 col0\" >yandex.fr</td>\n",
       "      <td id=\"T_7a4a2_row18_col1\" class=\"data row18 col1\" >3704876.65</td>\n",
       "      <td id=\"T_7a4a2_row18_col2\" class=\"data row18 col2\" >199654</td>\n",
       "      <td id=\"T_7a4a2_row18_col3\" class=\"data row18 col3\" >3</td>\n",
       "      <td id=\"T_7a4a2_row18_col4\" class=\"data row18 col4\" >3505222.65</td>\n",
       "      <td id=\"T_7a4a2_row18_col5\" class=\"data row18 col5\" >5.4%</td>\n",
       "    </tr>\n",
       "    <tr>\n",
       "      <th id=\"T_7a4a2_level0_row19\" class=\"row_heading level0 row19\" >21</th>\n",
       "      <td id=\"T_7a4a2_row19_col0\" class=\"data row19 col0\" >krasnodar.autovsalone.ru</td>\n",
       "      <td id=\"T_7a4a2_row19_col1\" class=\"data row19 col1\" >3704876.65</td>\n",
       "      <td id=\"T_7a4a2_row19_col2\" class=\"data row19 col2\" >410280</td>\n",
       "      <td id=\"T_7a4a2_row19_col3\" class=\"data row19 col3\" >3</td>\n",
       "      <td id=\"T_7a4a2_row19_col4\" class=\"data row19 col4\" >3294596.65</td>\n",
       "      <td id=\"T_7a4a2_row19_col5\" class=\"data row19 col5\" >11.1%</td>\n",
       "    </tr>\n",
       "    <tr>\n",
       "      <th id=\"T_7a4a2_level0_row20\" class=\"row_heading level0 row20\" >3</th>\n",
       "      <td id=\"T_7a4a2_row20_col0\" class=\"data row20 col0\" >BMW-keyauto-msk.ru</td>\n",
       "      <td id=\"T_7a4a2_row20_col1\" class=\"data row20 col1\" >4526753.30</td>\n",
       "      <td id=\"T_7a4a2_row20_col2\" class=\"data row20 col2\" >1666089</td>\n",
       "      <td id=\"T_7a4a2_row20_col3\" class=\"data row20 col3\" >4</td>\n",
       "      <td id=\"T_7a4a2_row20_col4\" class=\"data row20 col4\" >2860664.30</td>\n",
       "      <td id=\"T_7a4a2_row20_col5\" class=\"data row20 col5\" >36.8%</td>\n",
       "    </tr>\n",
       "    <tr>\n",
       "      <th id=\"T_7a4a2_level0_row21\" class=\"row_heading level0 row21\" >6</th>\n",
       "      <td id=\"T_7a4a2_row21_col0\" class=\"data row21 col0\" >BMW-keyauto-stv.ru</td>\n",
       "      <td id=\"T_7a4a2_row21_col1\" class=\"data row21 col1\" >3395064.98</td>\n",
       "      <td id=\"T_7a4a2_row21_col2\" class=\"data row21 col2\" >789030</td>\n",
       "      <td id=\"T_7a4a2_row21_col3\" class=\"data row21 col3\" >3</td>\n",
       "      <td id=\"T_7a4a2_row21_col4\" class=\"data row21 col4\" >2606034.98</td>\n",
       "      <td id=\"T_7a4a2_row21_col5\" class=\"data row21 col5\" >23.2%</td>\n",
       "    </tr>\n",
       "    <tr>\n",
       "      <th id=\"T_7a4a2_level0_row22\" class=\"row_heading level0 row22\" >4</th>\n",
       "      <td id=\"T_7a4a2_row22_col0\" class=\"data row22 col0\" >BMW-keyauto-rnd.ru</td>\n",
       "      <td id=\"T_7a4a2_row22_col1\" class=\"data row22 col1\" >2756000.00</td>\n",
       "      <td id=\"T_7a4a2_row22_col2\" class=\"data row22 col2\" >779699</td>\n",
       "      <td id=\"T_7a4a2_row22_col3\" class=\"data row22 col3\" >2</td>\n",
       "      <td id=\"T_7a4a2_row22_col4\" class=\"data row22 col4\" >1976301.00</td>\n",
       "      <td id=\"T_7a4a2_row22_col5\" class=\"data row22 col5\" >28.3%</td>\n",
       "    </tr>\n",
       "    <tr>\n",
       "      <th id=\"T_7a4a2_level0_row23\" class=\"row_heading level0 row23\" >13</th>\n",
       "      <td id=\"T_7a4a2_row23_col0\" class=\"data row23 col0\" >bing</td>\n",
       "      <td id=\"T_7a4a2_row23_col1\" class=\"data row23 col1\" >2263376.65</td>\n",
       "      <td id=\"T_7a4a2_row23_col2\" class=\"data row23 col2\" >557185</td>\n",
       "      <td id=\"T_7a4a2_row23_col3\" class=\"data row23 col3\" >2</td>\n",
       "      <td id=\"T_7a4a2_row23_col4\" class=\"data row23 col4\" >1706191.65</td>\n",
       "      <td id=\"T_7a4a2_row23_col5\" class=\"data row23 col5\" >24.6%</td>\n",
       "    </tr>\n",
       "    <tr>\n",
       "      <th id=\"T_7a4a2_level0_row24\" class=\"row_heading level0 row24\" >5</th>\n",
       "      <td id=\"T_7a4a2_row24_col0\" class=\"data row24 col0\" >BMW-keyauto-sochi.ru</td>\n",
       "      <td id=\"T_7a4a2_row24_col1\" class=\"data row24 col1\" >2263376.65</td>\n",
       "      <td id=\"T_7a4a2_row24_col2\" class=\"data row24 col2\" >636329</td>\n",
       "      <td id=\"T_7a4a2_row24_col3\" class=\"data row24 col3\" >2</td>\n",
       "      <td id=\"T_7a4a2_row24_col4\" class=\"data row24 col4\" >1627047.65</td>\n",
       "      <td id=\"T_7a4a2_row24_col5\" class=\"data row24 col5\" >28.1%</td>\n",
       "    </tr>\n",
       "    <tr>\n",
       "      <th id=\"T_7a4a2_level0_row25\" class=\"row_heading level0 row25\" >10</th>\n",
       "      <td id=\"T_7a4a2_row25_col0\" class=\"data row25 col0\" >adguard.com</td>\n",
       "      <td id=\"T_7a4a2_row25_col1\" class=\"data row25 col1\" >1131688.33</td>\n",
       "      <td id=\"T_7a4a2_row25_col2\" class=\"data row25 col2\" >29962</td>\n",
       "      <td id=\"T_7a4a2_row25_col3\" class=\"data row25 col3\" >1</td>\n",
       "      <td id=\"T_7a4a2_row25_col4\" class=\"data row25 col4\" >1101726.33</td>\n",
       "      <td id=\"T_7a4a2_row25_col5\" class=\"data row25 col5\" >2.6%</td>\n",
       "    </tr>\n",
       "    <tr>\n",
       "      <th id=\"T_7a4a2_level0_row26\" class=\"row_heading level0 row26\" >29</th>\n",
       "      <td id=\"T_7a4a2_row26_col0\" class=\"data row26 col0\" >yandex.by</td>\n",
       "      <td id=\"T_7a4a2_row26_col1\" class=\"data row26 col1\" >1131688.33</td>\n",
       "      <td id=\"T_7a4a2_row26_col2\" class=\"data row26 col2\" >57616</td>\n",
       "      <td id=\"T_7a4a2_row26_col3\" class=\"data row26 col3\" >1</td>\n",
       "      <td id=\"T_7a4a2_row26_col4\" class=\"data row26 col4\" >1074072.33</td>\n",
       "      <td id=\"T_7a4a2_row26_col5\" class=\"data row26 col5\" >5.1%</td>\n",
       "    </tr>\n",
       "    <tr>\n",
       "      <th id=\"T_7a4a2_level0_row27\" class=\"row_heading level0 row27\" >31</th>\n",
       "      <td id=\"T_7a4a2_row27_col0\" class=\"data row27 col0\" >yandex.kz</td>\n",
       "      <td id=\"T_7a4a2_row27_col1\" class=\"data row27 col1\" >1131688.33</td>\n",
       "      <td id=\"T_7a4a2_row27_col2\" class=\"data row27 col2\" >93552</td>\n",
       "      <td id=\"T_7a4a2_row27_col3\" class=\"data row27 col3\" >1</td>\n",
       "      <td id=\"T_7a4a2_row27_col4\" class=\"data row27 col4\" >1038136.33</td>\n",
       "      <td id=\"T_7a4a2_row27_col5\" class=\"data row27 col5\" >8.3%</td>\n",
       "    </tr>\n",
       "    <tr>\n",
       "      <th id=\"T_7a4a2_level0_row28\" class=\"row_heading level0 row28\" >22</th>\n",
       "      <td id=\"T_7a4a2_row28_col0\" class=\"data row28 col0\" >krasnodar.drom.ru</td>\n",
       "      <td id=\"T_7a4a2_row28_col1\" class=\"data row28 col1\" >1131688.33</td>\n",
       "      <td id=\"T_7a4a2_row28_col2\" class=\"data row28 col2\" >108552</td>\n",
       "      <td id=\"T_7a4a2_row28_col3\" class=\"data row28 col3\" >1</td>\n",
       "      <td id=\"T_7a4a2_row28_col4\" class=\"data row28 col4\" >1023136.33</td>\n",
       "      <td id=\"T_7a4a2_row28_col5\" class=\"data row28 col5\" >9.6%</td>\n",
       "    </tr>\n",
       "    <tr>\n",
       "      <th id=\"T_7a4a2_level0_row29\" class=\"row_heading level0 row29\" >11</th>\n",
       "      <td id=\"T_7a4a2_row29_col0\" class=\"data row29 col0\" >avtotochki.ru</td>\n",
       "      <td id=\"T_7a4a2_row29_col1\" class=\"data row29 col1\" >1131688.33</td>\n",
       "      <td id=\"T_7a4a2_row29_col2\" class=\"data row29 col2\" >149018</td>\n",
       "      <td id=\"T_7a4a2_row29_col3\" class=\"data row29 col3\" >1</td>\n",
       "      <td id=\"T_7a4a2_row29_col4\" class=\"data row29 col4\" >982670.33</td>\n",
       "      <td id=\"T_7a4a2_row29_col5\" class=\"data row29 col5\" >13.2%</td>\n",
       "    </tr>\n",
       "    <tr>\n",
       "      <th id=\"T_7a4a2_level0_row30\" class=\"row_heading level0 row30\" >25</th>\n",
       "      <td id=\"T_7a4a2_row30_col0\" class=\"data row30 col0\" >rambler.ru</td>\n",
       "      <td id=\"T_7a4a2_row30_col1\" class=\"data row30 col1\" >1131688.33</td>\n",
       "      <td id=\"T_7a4a2_row30_col2\" class=\"data row30 col2\" >160968</td>\n",
       "      <td id=\"T_7a4a2_row30_col3\" class=\"data row30 col3\" >1</td>\n",
       "      <td id=\"T_7a4a2_row30_col4\" class=\"data row30 col4\" >970720.33</td>\n",
       "      <td id=\"T_7a4a2_row30_col5\" class=\"data row30 col5\" >14.2%</td>\n",
       "    </tr>\n",
       "    <tr>\n",
       "      <th id=\"T_7a4a2_level0_row31\" class=\"row_heading level0 row31\" >12</th>\n",
       "      <td id=\"T_7a4a2_row31_col0\" class=\"data row31 col0\" >away.vk.com</td>\n",
       "      <td id=\"T_7a4a2_row31_col1\" class=\"data row31 col1\" >1131688.33</td>\n",
       "      <td id=\"T_7a4a2_row31_col2\" class=\"data row31 col2\" >175103</td>\n",
       "      <td id=\"T_7a4a2_row31_col3\" class=\"data row31 col3\" >1</td>\n",
       "      <td id=\"T_7a4a2_row31_col4\" class=\"data row31 col4\" >956585.33</td>\n",
       "      <td id=\"T_7a4a2_row31_col5\" class=\"data row31 col5\" >15.5%</td>\n",
       "    </tr>\n",
       "    <tr>\n",
       "      <th id=\"T_7a4a2_level0_row32\" class=\"row_heading level0 row32\" >26</th>\n",
       "      <td id=\"T_7a4a2_row32_col0\" class=\"data row32 col0\" >yabs.yandex.ru</td>\n",
       "      <td id=\"T_7a4a2_row32_col1\" class=\"data row32 col1\" >1131688.33</td>\n",
       "      <td id=\"T_7a4a2_row32_col2\" class=\"data row32 col2\" >422110</td>\n",
       "      <td id=\"T_7a4a2_row32_col3\" class=\"data row32 col3\" >1</td>\n",
       "      <td id=\"T_7a4a2_row32_col4\" class=\"data row32 col4\" >709578.33</td>\n",
       "      <td id=\"T_7a4a2_row32_col5\" class=\"data row32 col5\" >37.3%</td>\n",
       "    </tr>\n",
       "    <tr>\n",
       "      <th id=\"T_7a4a2_level0_row33\" class=\"row_heading level0 row33\" >1</th>\n",
       "      <td id=\"T_7a4a2_row33_col0\" class=\"data row33 col0\" >110km.ru</td>\n",
       "      <td id=\"T_7a4a2_row33_col1\" class=\"data row33 col1\" >615000.00</td>\n",
       "      <td id=\"T_7a4a2_row33_col2\" class=\"data row33 col2\" >279019</td>\n",
       "      <td id=\"T_7a4a2_row33_col3\" class=\"data row33 col3\" >1</td>\n",
       "      <td id=\"T_7a4a2_row33_col4\" class=\"data row33 col4\" >335981.00</td>\n",
       "      <td id=\"T_7a4a2_row33_col5\" class=\"data row33 col5\" >45.4%</td>\n",
       "    </tr>\n",
       "  </tbody>\n",
       "</table>\n"
      ],
      "text/plain": [
       "<pandas.io.formats.style.Styler at 0x17c6d0688d0>"
      ]
     },
     "execution_count": 108,
     "metadata": {},
     "output_type": "execute_result"
    }
   ],
   "source": [
    "mar_dt['Date'] = pd.to_datetime(mar_dt['Date'])\n",
    "filter_date = mar_dt[mar_dt['Конверсия'] == 1].groupby('Client ID')['Date'].min()\n",
    "total_margin = (df4['Маржа (руб)']*df4['Продажа']).to_frame(name='Total Margin').reset_index()\n",
    "df5 = mar_dt[mar_dt['Конверсия'] == 1].merge(filter_date, how='inner',on=['Client ID','Date'])\n",
    "filter_avg_dur = df5.groupby('Client ID')['Avg. Session Duration'].max()\n",
    "filter_source = df5.merge(filter_avg_dur, on=['Client ID','Avg. Session Duration']).drop_duplicates(subset=['Client ID','Source']).drop_duplicates(subset=['Client ID'])\n",
    "df6 = total_margin.merge(filter_source, on='Client ID', how='inner').groupby('Source')['Total Margin'].sum().reset_index()\n",
    "final_table = df6.merge(mar_dt.groupby('Source')['Goal Value'].sum(), on=['Source'])\n",
    "final_table = final_table.merge(df4.merge(filter_source, on='Client ID').groupby('Source')['Продажа'].sum().to_frame(name='Продажа'), on='Source')\n",
    "final_table['Profit (T-G)'] = final_table['Total Margin'] - final_table['Goal Value']\n",
    "final_table['Ratio (G/T)'] = final_table['Goal Value']/final_table['Total Margin']*100\n",
    "final_table.sort_values(by='Profit (T-G)',ascending=False).style.format({'Ratio (G/T)': '{:.1f}%','Total Margin': '{:.2f}','Profit (T-G)': '{:.2f}'})"
   ]
  },
  {
   "cell_type": "markdown",
   "metadata": {},
   "source": [
    "### 8. Ответьте на вопрос: каких показателей не хватает, чтобы посчитать чистую прибыль?\n",
    "\n",
    "Всех. Нет ни расходов, ни доходов. Есть только \"маржа\", не понятно на каком этапе рассчитанная, и расходы на рекламу через интернет-ресурсы, которые тоже вызвали вопросы, требующие уточнений, при анализе источников."
   ]
  },
  {
   "cell_type": "markdown",
   "metadata": {},
   "source": [
    "### 9. Сделать прогноз до конца февраля по количеству конверсий на каждый день"
   ]
  },
  {
   "cell_type": "code",
   "execution_count": 109,
   "metadata": {},
   "outputs": [
    {
     "data": {
      "image/png": "[encoded data removed]",
      "text/plain": [
       "<Figure size 1200x600 with 1 Axes>"
      ]
     },
     "metadata": {},
     "output_type": "display_data"
    },
    {
     "name": "stdout",
     "output_type": "stream",
     "text": [
      "2020-02-18    656.0\n",
      "2020-02-19    619.0\n",
      "2020-02-20    640.0\n",
      "2020-02-21    621.0\n",
      "2020-02-22    537.0\n",
      "2020-02-23    639.0\n",
      "2020-02-24    503.0\n",
      "2020-02-25    619.0\n",
      "2020-02-26    567.0\n",
      "2020-02-27    604.0\n",
      "2020-02-28    580.0\n",
      "2020-02-29    514.0\n",
      "2020-03-01    637.0\n",
      "Freq: D, Name: predicted_mean, dtype: float64\n"
     ]
    }
   ],
   "source": [
    "import matplotlib.pyplot as plt\n",
    "from statsmodels.tsa.statespace.sarimax import SARIMAX\n",
    "import warnings\n",
    "warnings.filterwarnings('ignore')\n",
    "\n",
    "mar_dt['Date'] = pd.to_datetime(mar_dt['Date'])\n",
    "cur_date = mar_dt.groupby('Date')['Конверсия'].sum().to_frame()\n",
    "model = SARIMAX(cur_date['Конверсия'], order=(1, 0, 1), seasonal_order=(1, 1, 1, 7)).fit()\n",
    "forecast = model.forecast(steps=13)\n",
    "forecast = round(forecast)\n",
    "\n",
    "\n",
    "plt.figure(figsize=(12,6))\n",
    "plt.plot(cur_date.index, cur_date['Конверсия'], label='Исходные данные')\n",
    "plt.plot(forecast.index, forecast.values, label='Прогноз', color='#FF6600')\n",
    "plt.plot([cur_date.index[-1], forecast.index[0]], [cur_date['Конверсия'].iloc[-1], forecast.values[0]], color='#FF6600')\n",
    "plt.title('Прогноз количества конверсий по дням')\n",
    "plt.legend()\n",
    "plt.grid()\n",
    "plt.show()\n",
    "\n",
    "print(forecast)\n"
   ]
  },
  {
   "cell_type": "markdown",
   "metadata": {},
   "source": [
    "### 10. Какая будет выручка за первый квартал, если средняя стоимость авто останется неизменной, а продажи будут пропорциональны текущим данным?"
   ]
  },
  {
   "cell_type": "code",
   "execution_count": 110,
   "metadata": {},
   "outputs": [
    {
     "name": "stdout",
     "output_type": "stream",
     "text": [
      "33 146 912 845.44 руб\n"
     ]
    }
   ],
   "source": [
    "from datetime import datetime\n",
    "price = mar_dt.merge(dir, left_on='Модель', right_on='Модель', how='left')\n",
    "price = price[(price['Конверсия'] == 1) & (price['Цена (руб)'].notnull())]\n",
    "price = price.drop_duplicates(subset=['Client ID','Цена (руб)']).groupby('Client ID')['Цена (руб)'].mean()\n",
    "price2 = crm_dt[crm_dt['Продажа'] == 1].groupby('Client ID')['Продажа'].sum()\n",
    "price3 = pd.merge(price2,price, on='Client ID', how='left')\n",
    "avg_price = price3['Цена (руб)'].sum()/price3[price3['Цена (руб)'].notna()]['Продажа'].sum()\n",
    "price3['Цена (руб)'] = price3['Цена (руб)'].fillna(avg_price)\n",
    "total_revenue = (price3['Цена (руб)']*price3['Продажа']).sum()\n",
    "b = total_revenue*(datetime.strptime('1/4/2020', '%d/%m/%Y')-datetime.strptime('1/1/2020', '%d/%m/%Y')).days/(datetime.strptime('18/2/2020', '%d/%m/%Y')-datetime.strptime('1/1/2020', '%d/%m/%Y')).days\n",
    "print(f'{round(b,2):,} руб'.replace(',',' ')) "
   ]
  }
 ],
 "metadata": {
  "kernelspec": {
   "display_name": "Python 3",
   "language": "python",
   "name": "python3"
  },
  "language_info": {
   "codemirror_mode": {
    "name": "ipython",
    "version": 3
   },
   "file_extension": ".py",
   "mimetype": "text/x-python",
   "name": "python",
   "nbconvert_exporter": "python",
   "pygments_lexer": "ipython3",
   "version": "3.11.3"
  }
 },
 "nbformat": 4,
 "nbformat_minor": 2
}
